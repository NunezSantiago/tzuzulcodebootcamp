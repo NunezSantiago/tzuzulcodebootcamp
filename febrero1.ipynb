{
 "cells": [
  {
   "cell_type": "code",
   "execution_count": 2,
   "metadata": {
    "collapsed": true,
    "pycharm": {
     "name": "#%%\n"
    }
   },
   "outputs": [],
   "source": [
    "import numpy as np\n",
    "import pandas as pd"
   ]
  },
  {
   "cell_type": "code",
   "execution_count": 3,
   "outputs": [],
   "source": [
    "movies = pd.read_csv('E:\\Santiago\\Descargas\\movies.csv', index_col=0, usecols=(range(0,10))).dropna()"
   ],
   "metadata": {
    "collapsed": false,
    "pycharm": {
     "name": "#%%\n"
    }
   }
  },
  {
   "cell_type": "code",
   "execution_count": 4,
   "outputs": [],
   "source": [
    "movies.Genre = [x.split(', ') for x in movies.Genre] #Separa los generos"
   ],
   "metadata": {
    "collapsed": false,
    "pycharm": {
     "name": "#%%\n"
    }
   }
  },
  {
   "cell_type": "code",
   "execution_count": 5,
   "outputs": [],
   "source": [
    "lista_generos = np.unique([y for x in movies.Genre for y in x]) # Lista de generos"
   ],
   "metadata": {
    "collapsed": false,
    "pycharm": {
     "name": "#%%\n"
    }
   }
  },
  {
   "cell_type": "code",
   "execution_count": null,
   "outputs": [],
   "source": [
    "lista_anos = np.sort(pd.unique(movies['Year'])) # Lista de años"
   ],
   "metadata": {
    "collapsed": false,
    "pycharm": {
     "name": "#%%\n"
    }
   }
  },
  {
   "cell_type": "code",
   "execution_count": 83,
   "outputs": [],
   "source": [
    "# Diccionario de generos\n",
    "i = 0\n",
    "dict_generos = {}\n",
    "\n",
    "for x in lista_generos:\n",
    "    dict_generos[x] = 0"
   ],
   "metadata": {
    "collapsed": false,
    "pycharm": {
     "name": "#%%\n"
    }
   }
  },
  {
   "cell_type": "markdown",
   "source": [
    "Metascore is a weighted average in that we assign more importance, or weight, to some critics and publications than others, based on their quality and overall stature."
   ],
   "metadata": {
    "collapsed": false,
    "pycharm": {
     "name": "#%% md\n"
    }
   }
  },
  {
   "cell_type": "markdown",
   "source": [
    "##Lowest and highest score"
   ],
   "metadata": {
    "collapsed": false,
    "pycharm": {
     "name": "#%% md\n"
    }
   }
  },
  {
   "cell_type": "code",
   "execution_count": 29,
   "outputs": [
    {
     "data": {
      "text/plain": "                     Title  Year  Score  Metascore                      Genre  \\\nRank                                                                            \n6341      Saving Christmas  2014    1.5       18.0             Comedy, Family   \n1994        Disaster Movie  2008    1.9       15.0                     Comedy   \n3778     House of the Dead  2003    2.0       15.0  Action, Adventure, Horror   \n6257     Who's Your Caddy?  2007    2.1       18.0              Comedy, Sport   \n4633  From Justin to Kelly  2003    2.1       14.0   Comedy, Musical, Romance   \n\n       Vote          Director  Runtime  Revenue  \nRank                                             \n6341  13831      Darren Doane       79     2.78  \n1994  80971   Jason Friedberg       87    14.19  \n3778  34197          Uwe Boll       90    10.25  \n6257  14213  Don Michael Paul       93     5.69  \n4633  24236     Robert Iscove       81     4.92  ",
      "text/html": "<div>\n<style scoped>\n    .dataframe tbody tr th:only-of-type {\n        vertical-align: middle;\n    }\n\n    .dataframe tbody tr th {\n        vertical-align: top;\n    }\n\n    .dataframe thead th {\n        text-align: right;\n    }\n</style>\n<table border=\"1\" class=\"dataframe\">\n  <thead>\n    <tr style=\"text-align: right;\">\n      <th></th>\n      <th>Title</th>\n      <th>Year</th>\n      <th>Score</th>\n      <th>Metascore</th>\n      <th>Genre</th>\n      <th>Vote</th>\n      <th>Director</th>\n      <th>Runtime</th>\n      <th>Revenue</th>\n    </tr>\n    <tr>\n      <th>Rank</th>\n      <th></th>\n      <th></th>\n      <th></th>\n      <th></th>\n      <th></th>\n      <th></th>\n      <th></th>\n      <th></th>\n      <th></th>\n    </tr>\n  </thead>\n  <tbody>\n    <tr>\n      <th>6341</th>\n      <td>Saving Christmas</td>\n      <td>2014</td>\n      <td>1.5</td>\n      <td>18.0</td>\n      <td>Comedy, Family</td>\n      <td>13831</td>\n      <td>Darren Doane</td>\n      <td>79</td>\n      <td>2.78</td>\n    </tr>\n    <tr>\n      <th>1994</th>\n      <td>Disaster Movie</td>\n      <td>2008</td>\n      <td>1.9</td>\n      <td>15.0</td>\n      <td>Comedy</td>\n      <td>80971</td>\n      <td>Jason Friedberg</td>\n      <td>87</td>\n      <td>14.19</td>\n    </tr>\n    <tr>\n      <th>3778</th>\n      <td>House of the Dead</td>\n      <td>2003</td>\n      <td>2.0</td>\n      <td>15.0</td>\n      <td>Action, Adventure, Horror</td>\n      <td>34197</td>\n      <td>Uwe Boll</td>\n      <td>90</td>\n      <td>10.25</td>\n    </tr>\n    <tr>\n      <th>6257</th>\n      <td>Who's Your Caddy?</td>\n      <td>2007</td>\n      <td>2.1</td>\n      <td>18.0</td>\n      <td>Comedy, Sport</td>\n      <td>14213</td>\n      <td>Don Michael Paul</td>\n      <td>93</td>\n      <td>5.69</td>\n    </tr>\n    <tr>\n      <th>4633</th>\n      <td>From Justin to Kelly</td>\n      <td>2003</td>\n      <td>2.1</td>\n      <td>14.0</td>\n      <td>Comedy, Musical, Romance</td>\n      <td>24236</td>\n      <td>Robert Iscove</td>\n      <td>81</td>\n      <td>4.92</td>\n    </tr>\n  </tbody>\n</table>\n</div>"
     },
     "execution_count": 29,
     "metadata": {},
     "output_type": "execute_result"
    }
   ],
   "source": [
    "movies.sort_values(by='Score').head()"
   ],
   "metadata": {
    "collapsed": false,
    "pycharm": {
     "name": "#%%\n"
    }
   }
  },
  {
   "cell_type": "code",
   "execution_count": 30,
   "outputs": [
    {
     "data": {
      "text/plain": "                                              Title  Year  Score  Metascore  \\\nRank                                                                          \n1                          The Shawshank Redemption  1994    9.3       80.0   \n33                           The Godfather: Part II  1974    9.0       90.0   \n2                                   The Dark Knight  2008    9.0       84.0   \n9     The Lord of the Rings: The Return of the King  2003    8.9       94.0   \n23                                 Schindler's List  1993    8.9       93.0   \n\n                          Genre     Vote              Director  Runtime  \\\nRank                                                                      \n1                         Drama  2011509        Frank Darabont      142   \n33                 Crime, Drama   954273  Francis Ford Coppola      202   \n2          Action, Crime, Drama  1980200     Christopher Nolan      152   \n9      Action, Adventure, Drama  1431887         Peter Jackson      201   \n23    Biography, Drama, History  1038237      Steven Spielberg      195   \n\n      Revenue  \nRank           \n1       28.34  \n33      57.30  \n2      534.86  \n9      377.85  \n23      96.07  ",
      "text/html": "<div>\n<style scoped>\n    .dataframe tbody tr th:only-of-type {\n        vertical-align: middle;\n    }\n\n    .dataframe tbody tr th {\n        vertical-align: top;\n    }\n\n    .dataframe thead th {\n        text-align: right;\n    }\n</style>\n<table border=\"1\" class=\"dataframe\">\n  <thead>\n    <tr style=\"text-align: right;\">\n      <th></th>\n      <th>Title</th>\n      <th>Year</th>\n      <th>Score</th>\n      <th>Metascore</th>\n      <th>Genre</th>\n      <th>Vote</th>\n      <th>Director</th>\n      <th>Runtime</th>\n      <th>Revenue</th>\n    </tr>\n    <tr>\n      <th>Rank</th>\n      <th></th>\n      <th></th>\n      <th></th>\n      <th></th>\n      <th></th>\n      <th></th>\n      <th></th>\n      <th></th>\n      <th></th>\n    </tr>\n  </thead>\n  <tbody>\n    <tr>\n      <th>1</th>\n      <td>The Shawshank Redemption</td>\n      <td>1994</td>\n      <td>9.3</td>\n      <td>80.0</td>\n      <td>Drama</td>\n      <td>2011509</td>\n      <td>Frank Darabont</td>\n      <td>142</td>\n      <td>28.34</td>\n    </tr>\n    <tr>\n      <th>33</th>\n      <td>The Godfather: Part II</td>\n      <td>1974</td>\n      <td>9.0</td>\n      <td>90.0</td>\n      <td>Crime, Drama</td>\n      <td>954273</td>\n      <td>Francis Ford Coppola</td>\n      <td>202</td>\n      <td>57.30</td>\n    </tr>\n    <tr>\n      <th>2</th>\n      <td>The Dark Knight</td>\n      <td>2008</td>\n      <td>9.0</td>\n      <td>84.0</td>\n      <td>Action, Crime, Drama</td>\n      <td>1980200</td>\n      <td>Christopher Nolan</td>\n      <td>152</td>\n      <td>534.86</td>\n    </tr>\n    <tr>\n      <th>9</th>\n      <td>The Lord of the Rings: The Return of the King</td>\n      <td>2003</td>\n      <td>8.9</td>\n      <td>94.0</td>\n      <td>Action, Adventure, Drama</td>\n      <td>1431887</td>\n      <td>Peter Jackson</td>\n      <td>201</td>\n      <td>377.85</td>\n    </tr>\n    <tr>\n      <th>23</th>\n      <td>Schindler's List</td>\n      <td>1993</td>\n      <td>8.9</td>\n      <td>93.0</td>\n      <td>Biography, Drama, History</td>\n      <td>1038237</td>\n      <td>Steven Spielberg</td>\n      <td>195</td>\n      <td>96.07</td>\n    </tr>\n  </tbody>\n</table>\n</div>"
     },
     "execution_count": 30,
     "metadata": {},
     "output_type": "execute_result"
    }
   ],
   "source": [
    "movies.sort_values(by='Score', ascending=False).head()"
   ],
   "metadata": {
    "collapsed": false,
    "pycharm": {
     "name": "#%%\n"
    }
   }
  },
  {
   "cell_type": "code",
   "execution_count": 85,
   "outputs": [],
   "source": [
    "for x in movies.Genre:\n",
    "    for y in lista_generos:\n",
    "        if y in x:\n",
    "            dict_generos[y]+=1"
   ],
   "metadata": {
    "collapsed": false,
    "pycharm": {
     "name": "#%%\n"
    }
   }
  },
  {
   "cell_type": "code",
   "execution_count": 68,
   "outputs": [
    {
     "data": {
      "text/plain": "[Comedy, Drama, Romance]         333\n[Comedy, Drama]                  285\n[Drama]                          281\n[Comedy]                         229\n[Drama, Romance]                 216\n                                ... \n[Crime, Drama, Sci-Fi]             1\n[Action, Drama, Comedy]            1\n[Animation, Biography, Crime]      1\n[Comedy, Music, Musical]           1\n[Drama, Mystery, Music]            1\nName: Genre, Length: 374, dtype: int64"
     },
     "execution_count": 68,
     "metadata": {},
     "output_type": "execute_result"
    }
   ],
   "source": [
    "movies['Genre'].value_counts()"
   ],
   "metadata": {
    "collapsed": false,
    "pycharm": {
     "name": "#%%\n"
    }
   }
  },
  {
   "cell_type": "markdown",
   "source": [
    "##Highest score movie of a given year"
   ],
   "metadata": {
    "collapsed": false
   }
  },
  {
   "cell_type": "code",
   "execution_count": 10,
   "outputs": [
    {
     "data": {
      "text/plain": "           Title  Year  Score  Metascore            Genre    Vote    Director  \\\nRank                                                                            \n1180  Metropolis  1927    8.3       98.0  [Drama, Sci-Fi]  137119  Fritz Lang   \n\n      Runtime  Revenue  \nRank                    \n1180      153     1.24  ",
      "text/html": "<div>\n<style scoped>\n    .dataframe tbody tr th:only-of-type {\n        vertical-align: middle;\n    }\n\n    .dataframe tbody tr th {\n        vertical-align: top;\n    }\n\n    .dataframe thead th {\n        text-align: right;\n    }\n</style>\n<table border=\"1\" class=\"dataframe\">\n  <thead>\n    <tr style=\"text-align: right;\">\n      <th></th>\n      <th>Title</th>\n      <th>Year</th>\n      <th>Score</th>\n      <th>Metascore</th>\n      <th>Genre</th>\n      <th>Vote</th>\n      <th>Director</th>\n      <th>Runtime</th>\n      <th>Revenue</th>\n    </tr>\n    <tr>\n      <th>Rank</th>\n      <th></th>\n      <th></th>\n      <th></th>\n      <th></th>\n      <th></th>\n      <th></th>\n      <th></th>\n      <th></th>\n      <th></th>\n    </tr>\n  </thead>\n  <tbody>\n    <tr>\n      <th>1180</th>\n      <td>Metropolis</td>\n      <td>1927</td>\n      <td>8.3</td>\n      <td>98.0</td>\n      <td>[Drama, Sci-Fi]</td>\n      <td>137119</td>\n      <td>Fritz Lang</td>\n      <td>153</td>\n      <td>1.24</td>\n    </tr>\n  </tbody>\n</table>\n</div>"
     },
     "execution_count": 10,
     "metadata": {},
     "output_type": "execute_result"
    }
   ],
   "source": [
    "x = 0\n",
    "while x not in lista_anos:\n",
    "    x = int(input())\n",
    "movies[movies['Year'] == x].sort_values(by='Score',ascending=False).head(1)"
   ],
   "metadata": {
    "collapsed": false,
    "pycharm": {
     "name": "#%%\n"
    }
   }
  },
  {
   "cell_type": "markdown",
   "source": [
    "##Mean of the score of the years in a given decade"
   ],
   "metadata": {
    "collapsed": false
   }
  },
  {
   "cell_type": "code",
   "execution_count": 27,
   "outputs": [
    {
     "data": {
      "text/plain": "Year\n1960    8.075000\n1961    7.600000\n1962    6.600000\n1963    7.577778\n1964    7.850000\n1965    7.633333\n1966    8.200000\n1967    7.700000\n1968    7.885714\n1969    7.680000\nName: Score, dtype: float64"
     },
     "execution_count": 27,
     "metadata": {},
     "output_type": "execute_result"
    }
   ],
   "source": [
    "d = int(input())\n",
    "movies[(movies['Year'] >= d) & (movies['Year'] < d + 10)].groupby(movies['Year'])['Score'].mean()"
   ],
   "metadata": {
    "collapsed": false,
    "pycharm": {
     "name": "#%%\n"
    }
   }
  },
  {
   "cell_type": "markdown",
   "source": [
    "##Mean of the score in a given decade"
   ],
   "metadata": {
    "collapsed": false
   }
  },
  {
   "cell_type": "code",
   "execution_count": 38,
   "outputs": [
    {
     "data": {
      "text/plain": "7.727777777777778"
     },
     "execution_count": 38,
     "metadata": {},
     "output_type": "execute_result"
    }
   ],
   "source": [
    "d = int(input())\n",
    "movies[(movies['Year'] >= d) & (movies['Year'] < d + 10)]['Score'].mean()"
   ],
   "metadata": {
    "collapsed": false,
    "pycharm": {
     "name": "#%%\n"
    }
   }
  }
 ],
 "metadata": {
  "kernelspec": {
   "display_name": "Python 3",
   "language": "python",
   "name": "python3"
  },
  "language_info": {
   "codemirror_mode": {
    "name": "ipython",
    "version": 2
   },
   "file_extension": ".py",
   "mimetype": "text/x-python",
   "name": "python",
   "nbconvert_exporter": "python",
   "pygments_lexer": "ipython2",
   "version": "2.7.6"
  }
 },
 "nbformat": 4,
 "nbformat_minor": 0
}